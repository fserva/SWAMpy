{
 "cells": [
  {
   "cell_type": "markdown",
   "metadata": {},
   "source": [
    "# SWAMpy Main Call\n",
    "\n",
    "\n",
    "\n"
   ]
  },
  {
   "cell_type": "markdown",
   "metadata": {},
   "source": [
    "- Utility functions used to populate dictionaries and arrays required to be passed to core SAMBUCA inversion algorithm\n",
    "- Combination of hardcoded and local path calls are currently required, with the 'end goal' of defining XMLs to pass straight to these dictoniaries, dervied by any API/method (manual, SNAP GUI, AGDC API etc)\n",
    "- Processing and Output options are hardcoded in corresponding modules as noted."
   ]
  },
  {
   "cell_type": "markdown",
   "metadata": {},
   "source": [
    "Developments to Date that extend the original Brando et. al (2009) SAMBUCA implementation:\n",
    "- Inclusion of 3 substrates in the inversion\n",
    "- The option to relax the sum-to-one constraint on the substrate composition (see Petit et. al. (2017))\n",
    "- Option of selecting bands with which to use in the inversion"
   ]
  },
  {
   "cell_type": "markdown",
   "metadata": {},
   "source": [
    "NOTE: Sambuca modules as well as Sen2Coral utility scripts have been amended from the SAMBUCA implementation due to a mismatch between how the array dimension is represented. The image data is read to an array (bands, rows, columns), however the original sambuca code treats this as (bands, x, y) or (bands, width, height). Original testing on a square image did not highlight this bug. The original sambuca repository needs to be fixed still."
   ]
  },
  {
   "cell_type": "markdown",
   "metadata": {},
   "source": [
    "# Set up the environment\n",
    "\n"
   ]
  },
  {
   "cell_type": "code",
   "execution_count": null,
   "metadata": {},
   "outputs": [],
   "source": [
    "import numpy as np\n",
    "import sys\n",
    "\n",
    "#import Marcos script modules and set up path to these\n",
    "\n",
    "sys.path.append('C:\\\\Users\\\\PCUSER\\\\sambuca_project\\\\SWAMpy\\\\sen2coral')\n",
    "\n",
    "import sambuca_input_rrs\n",
    "import sambuca_input_parameters\n",
    "import sambuca_preparation\n",
    "import sambuca_calculations\n",
    "import sambuca_outputs\n",
    "import define_outputs\n",
    "\n",
    "\n",
    "# set some controls on numpy formatting\n",
    "# 5 decimal places, suppress scientific notation\n",
    "np.set_printoptions(precision=5, suppress=True)"
   ]
  },
  {
   "cell_type": "markdown",
   "metadata": {},
   "source": [
    "Now import the sambuca and sambuca-core packages:"
   ]
  },
  {
   "cell_type": "code",
   "execution_count": null,
   "metadata": {},
   "outputs": [],
   "source": [
    "import sambuca as sb\n",
    "import sambuca_core as sbc"
   ]
  },
  {
   "cell_type": "code",
   "execution_count": null,
   "metadata": {},
   "outputs": [],
   "source": [
    "# Main statement needed if exporting to .py script. \n",
    "#if __name__=='__main__':"
   ]
  },
  {
   "cell_type": "markdown",
   "metadata": {},
   "source": [
    "# Define a base project input path\n",
    "\n",
    "In this path the code expects the following folders\n",
    "- image\n",
    "- siop\n",
    "- nedr\n",
    "- substrates\n",
    "- sensor_filters\n",
    "\n",
    "This path can used to point to XML files to ingest when ready for that. At the moment, files specified in the input folders are hardcoded in sambuca_input_rrs and sambuca_input_parameters modules."
   ]
  },
  {
   "cell_type": "code",
   "execution_count": null,
   "metadata": {
    "collapsed": true
   },
   "outputs": [],
   "source": [
    "base_path = 'C:\\\\Users\\\\PCUSER\\\\sambuca_project\\\\SWAMpy\\\\input_data\\\\'"
   ]
  },
  {
   "cell_type": "markdown",
   "metadata": {},
   "source": [
    "# Load the Input Image Data\n",
    "*sambuca_input_rrs.py*\n",
    "\n",
    "- The code requires below-surface remote sensing reflectance (rrs)\n",
    "- The input data is loaded into an observed_rrs array of shape (bands, rows, columns) using rasterio. \n",
    "- Other image metadata is loaded into a tagged image_info dictionary based on rasterio src class. (e.g crs, affine, width, height)\n",
    "- Full sensor filter dictonary is loaded, and specific sensor filter extracted based on sensor id key\n",
    "- If Rrs is set to True, the user is supplying above-surface remote sensing reflectance. This is coverted to below-surface rrs if True is set. Default value if not set is False\n",
    "- There is a hardcoded option to select a sub-set of bands to run the inversion on. The user must ensure that the sensor filter is then of the same size. For example: S25 for 5 bands of Sentinel-2. The user must also make a sensible choice based on the minimum common wavelengths of the other input spectra (substrates, a_ph_star, awater) (see the Prepare the Data call)\n",
    "- Noise Equivilant (nedr) is also loaded here, with the path specified. Similar to the sensor filter, the user must also make sure the number of bands in the nedr selected matches that of the selected bands in the input data.\n",
    "\n",
    "File names and sensor id key are currently hardcoded."
   ]
  },
  {
   "cell_type": "code",
   "execution_count": null,
   "metadata": {
    "scrolled": true
   },
   "outputs": [],
   "source": [
    "[observed_rrs, image_info]=sambuca_input_rrs.sam_obs(base_path, Rrs = False)"
   ]
  },
  {
   "cell_type": "markdown",
   "metadata": {},
   "source": [
    "# Load the Parameters\n",
    "*sambuca_input_parameters.py*\n",
    "\n",
    "Builds Dictionaries to pass to the data prep and inversion \n",
    "- SIOPs: spectral, values, substrates, free parameter bounds\n",
    "- Enviromental data: sun angle. off nadir, q factor\n",
    "\n",
    "Currently hardcoded and read in from input data folder, aim to build from XML\n",
    "\n",
    "Bounds for the three substrates here should reflect if the user is using a sum to one constraint, or the relaxed constraint (RASC) (specified in the Run the Inversion step).\n",
    "\n",
    "- If Sum-to-One, lower bounds = 0  and upper bounds = 1 for each substrate\n",
    "- For RASC, lower bounds = 0 and upper bounds = upper limit of RASC.\n",
    "\n"
   ]
  },
  {
   "cell_type": "code",
   "execution_count": null,
   "metadata": {},
   "outputs": [],
   "source": [
    "[siop, envmeta]=sambuca_input_parameters.sam_par(base_path)"
   ]
  },
  {
   "cell_type": "markdown",
   "metadata": {},
   "source": [
    "# Prepare the Data\n",
    "*sambuca_preparation.py*\n",
    "\n",
    "- Prepares the spectral inputs (currently truncates to a common wavelength range).\n",
    "- Builds a fixed parameter set out of truncated inputs, siop and envdata dictionaries.\n",
    "- Prepares a result recorder for storing array based results.\n",
    "- Defines the objective function (Hardcoded call currently made to specific error function here)"
   ]
  },
  {
   "cell_type": "code",
   "execution_count": null,
   "metadata": {},
   "outputs": [],
   "source": [
    "[wavelengths, siop, image_info, fixed_parameters, result_recorder, objective]=sambuca_preparation.sam_prep(siop, envmeta, \n",
    "                                                                                                           image_info)"
   ]
  },
  {
   "cell_type": "markdown",
   "metadata": {},
   "source": [
    "# Run the Inversion\n",
    "*sambuca_calculations.py*\n",
    "\n",
    "Sets up and runs the inversion:\n",
    "- Type of SciPy optimisation used\n",
    "    - For RASC application, perhaps only SLSQP is appropriate\n",
    "- Definition of an image subset to be processed if required (primarily for testing; as full result recorder array extent of original image is still used, and crs/affine may not translate when written to geotiff in outputs)\n",
    "- Parameter starting points (currently mid point of range)\n",
    "- Option to select and set relaxed constraints on substrate abundances (RASC), or to maintain sum-to-one\n",
    "    - Suitable substrate parameter bounds should also be set (see Load the Parameters)\n",
    "- Option for SAMBUCA option of 'go shallow', when set to true, retrieves as shallow depth as possible for optically deep waters whilst maintaining an SDI value of < 1.\n",
    "\n",
    "Returns the results, spatial subset range processed, and number of pixels processed"
   ]
  },
  {
   "cell_type": "code",
   "execution_count": null,
   "metadata": {},
   "outputs": [],
   "source": [
    "[result_recorder, coordinates, num_pixels]=sambuca_calculations.sam_com(observed_rrs, objective, siop,\n",
    "                                                                        result_recorder, image_info, shallow = False)"
   ]
  },
  {
   "cell_type": "markdown",
   "metadata": {},
   "source": [
    "# Define and Write some Outputs\n",
    "*define_outputs.py*\n",
    "\n",
    "- Outputs types wanted are defined in define_outputs.py and call to a writeout function within sambuca_outputs.py\n",
    "    - Examples can be extended. Some variables are calculated on the fly in here, for example, the total abundance of the three       RASC substrates proportions and the normalised RASC fractions.\n",
    "- Written out as geotiffs with crs info inherited from the input rrs data\n",
    "- Examples options of writing to png plots generated by MatPlotlib\n",
    "- If a subsection of image to be processed was selected in sambuca_calculations, coordinates ensure only this section is written (validation needed to see if crs and affine info translates correctly for a subset write)"
   ]
  },
  {
   "cell_type": "code",
   "execution_count": null,
   "metadata": {},
   "outputs": [],
   "source": [
    "define_outputs.output_suite(result_recorder, image_info, coordinates)"
   ]
  },
  {
   "cell_type": "code",
   "execution_count": null,
   "metadata": {
    "collapsed": true
   },
   "outputs": [],
   "source": []
  }
 ],
 "metadata": {
  "kernelspec": {
   "display_name": "Python 3",
   "language": "python",
   "name": "python3"
  },
  "language_info": {
   "codemirror_mode": {
    "name": "ipython",
    "version": 3
   },
   "file_extension": ".py",
   "mimetype": "text/x-python",
   "name": "python",
   "nbconvert_exporter": "python",
   "pygments_lexer": "ipython3",
   "version": "3.5.3"
  }
 },
 "nbformat": 4,
 "nbformat_minor": 1
}
