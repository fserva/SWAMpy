{
 "cells": [
  {
   "cell_type": "markdown",
   "metadata": {},
   "source": [
    "# Workflow Summary\n",
    "* Set up environment\n",
    "* Load data\n",
    "* Choose initial parameters\n",
    "* Choose parameter bounds\n",
    "* Define an objective function\n",
    "    * artificial bounds\n",
    "    * run forward model\n",
    "    * apply sensor filter to modeled spectra\n",
    "    * calculate closure/error\n",
    "* Build objective function closure, binding specific values\n",
    "* Minimisation step\n",
    "* Run forward model on retrieved parameters\n",
    "* Plot results"
   ]
  },
  {
   "cell_type": "markdown",
   "metadata": {},
   "source": [
    "# Set up the environment:"
   ]
  },
  {
   "cell_type": "code",
   "execution_count": null,
   "metadata": {
    "collapsed": false
   },
   "outputs": [],
   "source": [
    "%matplotlib inline\n",
    "import numpy as np\n",
    "from scipy.optimize import minimize, basinhopping\n",
    "import sambuca as sb\n",
    "import matplotlib.pyplot as plt\n",
    "from pkg_resources import resource_filename\n",
    "from scipy.io import loadmat\n",
    "import spectral as sp\n",
    "import spectral.io.envi as envi\n",
    "\n",
    "# set some controls on numpy formatting\n",
    "# 5 decimal places, suppress scientific notation\n",
    "np.set_printoptions(precision=5, suppress=True)\n",
    "\n",
    "# set the matplotlib style to emulate ggplot2 from R\n",
    "plt.style.use('ggplot')\n",
    "plot_width = 12\n",
    "plot_height = plot_width * 3/4\n",
    "\n",
    "# spectra to plot\n",
    "plot_items = list()"
   ]
  },
  {
   "cell_type": "markdown",
   "metadata": {},
   "source": [
    "# Utility Functions"
   ]
  },
  {
   "cell_type": "code",
   "execution_count": null,
   "metadata": {
    "collapsed": false
   },
   "outputs": [],
   "source": [
    "def print_spectral_library(lib):\n",
    "    #print(dir(lib))\n",
    "    print(\"Named Bands:\")\n",
    "    for band_name in lib.names:\n",
    "        print(\"\\t\" + band_name)\n",
    "    print(\"Data dimensions: \" + str(lib.spectra.shape))\n",
    "    #print(\"Available Metadata:\")\n",
    "    #for key in lib.metadata:\n",
    "    #    print(\"\\t\" + key)\n",
    "        \n",
    "        \n",
    "def plot_spectra(plot_items, band_centers):\n",
    "    plt.figure(figsize=(plot_width, plot_height))\n",
    "    for pi in plot_items:\n",
    "        plt.plot(band_centers, pi[0], label=pi[1])\n",
    "\n",
    "    # set the X axis range\n",
    "    plt.xlim(np.min(band_centers), np.max(band_centers))\n",
    "            \n",
    "    plt.legend(loc='upper right')\n",
    "    plt.show()\n",
    "    \n",
    "    \n",
    "def print_parameters(p):\n",
    "    print('CHL:  {0:10.5f}\\nCDOM: {1:10.5f}\\nTR:   {2:10.5f}\\nH:    {3:10.5f}\\nQ:    {4:10.5f}'\n",
    "          .format(p[0],p[1],p[2],p[4],p[3]))\n",
    "    \n",
    "\n",
    "def evaluate_forward_model(p, siops, sensor_filter):\n",
    "    spectra = sb.forward_model(\n",
    "        chl = p[0],\n",
    "        cdom = p[1],\n",
    "        nap = p[2],\n",
    "        depth = p[4],\n",
    "        substrate_fraction = p[3],\n",
    "        substrate1=siops['substrate1'],\n",
    "        substrate2=siops['substrate2'],\n",
    "        wav=siops['wav'],\n",
    "        awater=siops['awater'],\n",
    "        aphy_star=siops['aphy_star'],\n",
    "        num_bands=siops['d_wls'])\n",
    "        \n",
    "    if sensor_filter is not None:\n",
    "        # Apply the sensor filter and return the results\n",
    "        return sb.apply_sensor_filter(spectra.rrs, sensor_filter)\n",
    "    else:\n",
    "        return spectra.rrs"
   ]
  },
  {
   "cell_type": "markdown",
   "metadata": {},
   "source": [
    "# Load Data\n",
    "## Load the sambuca model inputs (SIOPS)"
   ]
  },
  {
   "cell_type": "code",
   "execution_count": null,
   "metadata": {
    "collapsed": false
   },
   "outputs": [],
   "source": [
    "filename = '../QBdata/forwardModelTestValues.mat'\n",
    "siops_data = loadmat(filename, squeeze_me=True)\n",
    "print(siops_data.keys())\n",
    "\n",
    "filename = resource_filename(\n",
    "            sb.__name__,\n",
    "            'tests/data/test_resample.mat')\n",
    "sensor_data = loadmat(filename, squeeze_me=True)\n",
    "print()\n",
    "print(sensor_data.keys())\n",
    "\n",
    "print()\n",
    "print(sensor_data['filt'].shape)"
   ]
  },
  {
   "cell_type": "markdown",
   "metadata": {},
   "source": [
    "## Load the Quickbird data:"
   ]
  },
  {
   "cell_type": "code",
   "execution_count": null,
   "metadata": {
    "collapsed": false
   },
   "outputs": [],
   "source": [
    "%cd ../QBdata\n",
    "%ls"
   ]
  },
  {
   "cell_type": "code",
   "execution_count": null,
   "metadata": {
    "collapsed": false
   },
   "outputs": [],
   "source": [
    "fullresspec = envi.open('FullResSpec.hdr','FullResSpec.lib')\n",
    "print_spectral_library(fullresspec)"
   ]
  },
  {
   "cell_type": "markdown",
   "metadata": {},
   "source": [
    "Grab the spectral data as a numpy array, and plot it to make sure it looks OK:"
   ]
  },
  {
   "cell_type": "code",
   "execution_count": null,
   "metadata": {
    "collapsed": false
   },
   "outputs": [],
   "source": [
    "fullres_spectra = fullresspec.spectra[0]\n",
    "plot_items.clear()\n",
    "plot_items.append((fullres_spectra, 'Full-res'))\n",
    "plot_spectra(plot_items, fullresspec.bands.centers)"
   ]
  },
  {
   "cell_type": "markdown",
   "metadata": {},
   "source": [
    "Load the Quickbird sensor filter:"
   ]
  },
  {
   "cell_type": "code",
   "execution_count": null,
   "metadata": {
    "collapsed": false
   },
   "outputs": [],
   "source": [
    "qbfilter = envi.open('QBFilter350_900nm.hdr','QBFilter350_900nm.lib')\n",
    "print_spectral_library(qbfilter)"
   ]
  },
  {
   "cell_type": "code",
   "execution_count": null,
   "metadata": {
    "collapsed": false
   },
   "outputs": [],
   "source": [
    "plot_items.clear()\n",
    "i = 0\n",
    "for band in qbfilter.names:\n",
    "    plot_items.append((qbfilter.spectra[i], band))\n",
    "    i = i + 1\n",
    "    \n",
    "plot_spectra(plot_items,qbfilter.bands.centers)"
   ]
  },
  {
   "cell_type": "markdown",
   "metadata": {},
   "source": [
    "Load the two target spectra, one generated with noise and one without:"
   ]
  },
  {
   "cell_type": "code",
   "execution_count": null,
   "metadata": {
    "collapsed": false
   },
   "outputs": [],
   "source": [
    "targetspec_nonoise = envi.open('QBSpecNoNoise.hdr','QBSpecNoNoise.lib')\n",
    "print_spectral_library(targetspec_nonoise)"
   ]
  },
  {
   "cell_type": "code",
   "execution_count": null,
   "metadata": {
    "collapsed": false
   },
   "outputs": [],
   "source": [
    "targetspec_noise = envi.open('QBSpec0_001Noise.hdr','QBSpec0_001Noise.lib')\n",
    "print_spectral_library(targetspec_noise)"
   ]
  },
  {
   "cell_type": "code",
   "execution_count": null,
   "metadata": {
    "collapsed": false
   },
   "outputs": [],
   "source": [
    "plot_items.clear()\n",
    "plot_items.append((targetspec_nonoise.spectra[0], 'No Noise'))\n",
    "plot_items.append((targetspec_noise.spectra[0], 'With Noise'))\n",
    "plot_spectra(plot_items, targetspec_nonoise.bands.centers)"
   ]
  },
  {
   "cell_type": "markdown",
   "metadata": {},
   "source": [
    "# Initial Parameters and Bounds"
   ]
  },
  {
   "cell_type": "markdown",
   "metadata": {},
   "source": [
    "Load the parameter ranges from our test data"
   ]
  },
  {
   "cell_type": "code",
   "execution_count": null,
   "metadata": {
    "collapsed": false
   },
   "outputs": [],
   "source": [
    "filename = resource_filename(\n",
    "            sb.__name__,\n",
    "            'tests/data/test_optimise_data.mat')\n",
    "data = loadmat(filename, squeeze_me=True)\n",
    "\n",
    "p_min = data['p_min']\n",
    "p_max = data['p_max']\n",
    "\n",
    "#p_min and p_max have already been defined in previous cells (read from test data)\n",
    "# random parameters often lead to a tougher optimisation challenge\n",
    "p0_rand = np.random.random(5) * (p_max - p_min) + p_min\n",
    "\n",
    "# Parameters known to lead Nelder-Mead astray:\n",
    "#p0 = np.array([0.13959, 0.00361,  0.73770,  0.07821,  0.02446])\n",
    "\n",
    "# Semi-reasonable first guess:\n",
    "p0 = np.array([0.093, 0.013,  1.088,  0.815, 7.282])\n",
    "\n",
    "# Very good first guess:\n",
    "#p0 = np.array([0.145, 0.007,  0.25,  0.2, 7.45])\n",
    "\n",
    "#p0 = p0_rand\n",
    "\n",
    "print(\"Initial Parameters\\n\")\n",
    "print_parameters(p0)\n",
    "\n",
    "# repackage p_min and p_max into the tuple of (min,max) pairs expected by our objective function,\n",
    "# and by the minimisation methods that support bounds\n",
    "p_bounds = tuple(zip(p_min, p_max))\n",
    "print('\\nBounds = {}'.format(p_bounds))"
   ]
  },
  {
   "cell_type": "markdown",
   "metadata": {},
   "source": [
    "#Objective Function\n",
    "Define an objective builder that assembles sambuca components (forward model, sensor filter, error function), using a closure to bind the other inputs:"
   ]
  },
  {
   "cell_type": "code",
   "execution_count": null,
   "metadata": {
    "collapsed": false
   },
   "outputs": [],
   "source": [
    "def make_objective(siops, sensor_filter, obs_spectra, p_bounds=None, noise=None):\n",
    "    awater = siops['awater']\n",
    "    wav = siops['wav']\n",
    "    aphy_star = siops['aphy_star']\n",
    "    substrate1 = siops['substrate1']\n",
    "    substrate2 = siops['substrate2']\n",
    "    num_modelled_bands = sensor_filter.shape[1]\n",
    "    num_observed_bands = sensor_filter.shape[0]\n",
    "            \n",
    "    def objective(p):\n",
    "        # To support algorithms without support for boundary values, we assign a high \n",
    "        # score to out of range parameters.\n",
    "        # p_bounds is a tuple of (min, max) pairs for each parameter in p\n",
    "        if p_bounds is not None:\n",
    "            for _p, lu in zip(p, p_bounds):\n",
    "                l, u = lu\n",
    "                if _p < l or _p > u:\n",
    "                    return 100000.0\n",
    "                    \n",
    "        # call the forward model\n",
    "        # We rely on the default values of the other model inputs, which happen to be\n",
    "        # the same values used in the Matlab code\n",
    "        results = sb.forward_model(\n",
    "            chl = p[0],\n",
    "            cdom = p[1],\n",
    "            nap = p[2],\n",
    "            depth = p[4],\n",
    "            substrate_fraction = p[3],\n",
    "            substrate1=substrate1,\n",
    "            substrate2=substrate2,\n",
    "            wav=wav,\n",
    "            awater=awater,\n",
    "            aphy_star=aphy_star,\n",
    "            num_bands=num_modelled_bands)\n",
    "        \n",
    "        spectra = results.rrs\n",
    "        \n",
    "        # Apply the sensor filter\n",
    "        filtered_spectra = sb.apply_sensor_filter(spectra, sensor_filter)\n",
    "        \n",
    "        # Calculate the error and return it as the objective score\n",
    "        error = sb.error_all(obs_spectra, filtered_spectra, noise)\n",
    "        \n",
    "        #return error.alpha\n",
    "        #return error.alpha_f\n",
    "        return error.f\n",
    "        #return error.lsq\n",
    "    \n",
    "    return objective"
   ]
  },
  {
   "cell_type": "markdown",
   "metadata": {},
   "source": [
    "Define objective functions with noise and without:"
   ]
  },
  {
   "cell_type": "code",
   "execution_count": null,
   "metadata": {
    "collapsed": false
   },
   "outputs": [],
   "source": [
    "# for this test data, Steve used a constant noise of 0.001\n",
    "noise = 0.001\n",
    "#noise = None\n",
    "\n",
    "sensor_filter = qbfilter.spectra\n",
    "\n",
    "obj_bounded = make_objective(\n",
    "        siops_data, \n",
    "        sensor_filter,\n",
    "        targetspec_noise.spectra[0], \n",
    "        p_bounds,\n",
    "        noise)\n",
    "\n",
    "obj_unbounded = make_objective(\n",
    "        siops_data, \n",
    "        sensor_filter,\n",
    "        targetspec_nonoise.spectra[0], \n",
    "        p_bounds=None,\n",
    "        noise=noise)"
   ]
  },
  {
   "cell_type": "markdown",
   "metadata": {},
   "source": [
    "# Invert the model (parameter estimation)"
   ]
  },
  {
   "cell_type": "markdown",
   "metadata": {},
   "source": [
    "## Nelder-Mead method:"
   ]
  },
  {
   "cell_type": "code",
   "execution_count": null,
   "metadata": {
    "collapsed": false
   },
   "outputs": [],
   "source": [
    "?sb.forward_model"
   ]
  },
  {
   "cell_type": "code",
   "execution_count": null,
   "metadata": {
    "collapsed": false
   },
   "outputs": [],
   "source": [
    "res_nm = minimize(obj_bounded, p0, method='nelder-mead', \n",
    "                  options={'xtol':1e-5, 'disp':True, 'maxiter':50000})\n",
    "p_nm = res_nm['x']\n",
    "print_parameters(p_nm)\n",
    "nm_spectra = evaluate_forward_model(p_nm, siops_data, sensor_filter)\n",
    "nm_spectra_full = evaluate_forward_model(p_nm, siops_data, None)"
   ]
  },
  {
   "cell_type": "markdown",
   "metadata": {},
   "source": [
    "## Sequential Least-Squares"
   ]
  },
  {
   "cell_type": "code",
   "execution_count": null,
   "metadata": {
    "collapsed": false
   },
   "outputs": [],
   "source": [
    "res_slsqp = minimize(obj_unbounded, p0, method='SLSQP', bounds=p_bounds, \n",
    "                     options={'disp':True, 'maxiter':20000})\n",
    "p_slsqp = res_slsqp['x']\n",
    "print_parameters(p_slsqp)\n",
    "slsqp_spectra = evaluate_forward_model(p_slsqp, siops_data, sensor_filter)\n",
    "slsqp_spectra_full = evaluate_forward_model(p_slsqp, siops_data, None)"
   ]
  },
  {
   "cell_type": "markdown",
   "metadata": {},
   "source": [
    "#Plot the results"
   ]
  },
  {
   "cell_type": "code",
   "execution_count": null,
   "metadata": {
    "collapsed": false
   },
   "outputs": [],
   "source": [
    "p0_spectra = evaluate_forward_model(p0, siops_data, sensor_filter)\n",
    "p0_spectra_full = evaluate_forward_model(p0, siops_data, None)"
   ]
  },
  {
   "cell_type": "markdown",
   "metadata": {},
   "source": [
    "## Filtered Spectra"
   ]
  },
  {
   "cell_type": "code",
   "execution_count": null,
   "metadata": {
    "collapsed": false
   },
   "outputs": [],
   "source": [
    "plot_items.clear()\n",
    "#plot_items.append((targetspec_nonoise.spectra[0], 'Target'))\n",
    "plot_items.append((targetspec_noise.spectra[0], 'Target'))\n",
    "plot_items.append((nm_spectra, 'Nelder-Mead'))\n",
    "plot_items.append((slsqp_spectra, 'Seq Least-Squares'))\n",
    "plot_items.append((p0_spectra, 'p0'))\n",
    "plot_spectra(plot_items, targetspec_noise.bands.centers)"
   ]
  },
  {
   "cell_type": "markdown",
   "metadata": {},
   "source": [
    "##Full Spectra"
   ]
  },
  {
   "cell_type": "code",
   "execution_count": null,
   "metadata": {
    "collapsed": false
   },
   "outputs": [],
   "source": [
    "plot_items.clear()\n",
    "#plot_items.append((targetspec_nonoise.spectra[0], 'Target'))\n",
    "plot_items.append((fullres_spectra, 'Target'))\n",
    "plot_items.append((nm_spectra_full, 'Nelder-Mead'))\n",
    "plot_items.append((slsqp_spectra_full, 'Seq Least-Squares'))\n",
    "plot_items.append((p0_spectra_full, 'p0'))\n",
    "plot_spectra(plot_items, fullresspec.bands.centers)"
   ]
  }
 ],
 "metadata": {
  "kernelspec": {
   "display_name": "Python 3",
   "language": "python",
   "name": "python3"
  },
  "language_info": {
   "codemirror_mode": {
    "name": "ipython",
    "version": 3
   },
   "file_extension": ".py",
   "mimetype": "text/x-python",
   "name": "python",
   "nbconvert_exporter": "python",
   "pygments_lexer": "ipython3",
   "version": "3.4.3"
  }
 },
 "nbformat": 4,
 "nbformat_minor": 0
}
