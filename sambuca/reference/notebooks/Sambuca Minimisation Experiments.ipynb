{
 "cells": [
  {
   "cell_type": "markdown",
   "metadata": {},
   "source": [
    "# First experiments in Sambuca minimisation with Scipy"
   ]
  },
  {
   "cell_type": "markdown",
   "metadata": {},
   "source": [
    "## Set up the environment:"
   ]
  },
  {
   "cell_type": "code",
   "execution_count": 15,
   "metadata": {
    "collapsed": false
   },
   "outputs": [],
   "source": [
    "%matplotlib inline\n",
    "import numpy as np\n",
    "from scipy.optimize import minimize, basinhopping\n",
    "import sambuca_core as sb\n",
    "import matplotlib.pyplot as plt\n",
    "from pkg_resources import resource_filename\n",
    "from scipy.io import loadmat\n",
    "\n",
    "# set some controls on numpy formatting\n",
    "# 5 decimal places, suppress scientific notation\n",
    "np.set_printoptions(precision=5, suppress=True)\n",
    "\n",
    "# set the matplotlib style to emulate ggplot2 from R\n",
    "plt.style.use('ggplot')\n",
    "plot_width = 12\n",
    "plot_height = plot_width * 3/4\n",
    "\n",
    "# spectra to plot\n",
    "plot_items = list()"
   ]
  },
  {
   "cell_type": "markdown",
   "metadata": {},
   "source": [
    "## Utility functions"
   ]
  },
  {
   "cell_type": "code",
   "execution_count": 29,
   "metadata": {
    "collapsed": false
   },
   "outputs": [],
   "source": [
    "def print_parameters(p):\n",
    "    print('''\\\n",
    "        CHL:  {0:10.5f}\n",
    "        CDOM: {1:10.5f}\n",
    "        NAP:  {2:10.5f}\n",
    "        Depth:{3:10.5f}\n",
    "        Q:    {4:10.5f}'''\n",
    "          .format(p[0],p[1],p[2],p[4],p[3]))\n",
    "    \n",
    "def evaluate_forward_model(p, siops, sensor_filter):\n",
    "    spectra = sb.forward_model(\n",
    "        chl = p[0],\n",
    "        cdom = p[1],\n",
    "        nap = p[2],\n",
    "        depth = p[4],\n",
    "        substrate_fraction = p[3],\n",
    "        substrate1=siops['substrate1'],\n",
    "        substrate2=siops['substrate2'],\n",
    "        wav=siops['wav'],\n",
    "        awater=siops['awater'],\n",
    "        aphy_star=siops['aphy_star'],\n",
    "        num_bands=siops['d_wls'])\n",
    "        \n",
    "    # Apply the sensor filter and return the results\n",
    "    return sb.apply_sensor_filter(spectra.rrs, sensor_filter)"
   ]
  },
  {
   "cell_type": "markdown",
   "metadata": {},
   "source": [
    "## Load the matlab reference data:"
   ]
  },
  {
   "cell_type": "code",
   "execution_count": 17,
   "metadata": {
    "collapsed": false
   },
   "outputs": [
    {
     "data": {
      "text/plain": [
       "dict_keys(['p_min', '__header__', 'observed_spectra', 'p_max', 'modelled_spectra', 'p', '__version__', '__globals__'])"
      ]
     },
     "execution_count": 17,
     "metadata": {},
     "output_type": "execute_result"
    }
   ],
   "source": [
    "filename = resource_filename(\n",
    "            sb.__name__,\n",
    "            'tests/data/test_optimise_data.mat')\n",
    "data = loadmat(filename, squeeze_me=True)\n",
    "data.keys()"
   ]
  },
  {
   "cell_type": "markdown",
   "metadata": {},
   "source": [
    "The order of parameters in p, p_min, and p_max are :\n",
    "    \n",
    "    CHL, CDOM, TR, Q, H\n",
    "        \n",
    "Grab the final parameters and boundary values:"
   ]
  },
  {
   "cell_type": "code",
   "execution_count": 30,
   "metadata": {
    "collapsed": false,
    "scrolled": true
   },
   "outputs": [
    {
     "name": "stdout",
     "output_type": "stream",
     "text": [
      "matlab\n",
      "        CHL:     0.13047\n",
      "        CDOM:    0.00372\n",
      "        NAP:     0.59454\n",
      "        Depth:  10.44262\n",
      "        Q:       0.13181\n",
      "min\n",
      "        CHL:     0.01000\n",
      "        CDOM:    0.00050\n",
      "        NAP:     0.20000\n",
      "        Depth:   0.00000\n",
      "        Q:       0.00000\n",
      "max\n",
      "        CHL:     0.22000\n",
      "        CDOM:    0.01500\n",
      "        NAP:     2.40000\n",
      "        Depth:  17.40000\n",
      "        Q:       1.00000\n"
     ]
    }
   ],
   "source": [
    "matlab_final_parameters = data['p']\n",
    "p_min = data['p_min']\n",
    "p_max = data['p_max']\n",
    "print('matlab')\n",
    "print_parameters(matlab_final_parameters)\n",
    "print('min')\n",
    "print_parameters(p_min)\n",
    "print('max')\n",
    "print_parameters(p_max)"
   ]
  },
  {
   "cell_type": "markdown",
   "metadata": {},
   "source": [
    "While we are at it, plot the observed and final modelled spectra from the Matlab run:"
   ]
  },
  {
   "cell_type": "code",
   "execution_count": 19,
   "metadata": {
    "collapsed": false
   },
   "outputs": [
    {
     "data": {
      "image/png": "[encoded data removed]",
      "text/plain": [
       "<matplotlib.figure.Figure at 0x7f914d706470>"
      ]
     },
     "metadata": {},
     "output_type": "display_data"
    }
   ],
   "source": [
    "obs_spectra = data['observed_spectra']\n",
    "mdl_spectra = data['modelled_spectra']\n",
    "plot_items.clear()\n",
    "plot_items.append((obs_spectra, 'Observed'))\n",
    "plot_items.append((mdl_spectra, 'Matlab'))\n",
    "\n",
    "plt.figure(figsize=(plot_width, plot_height))\n",
    "for pi in plot_items:\n",
    "    plt.plot(pi[0], label=pi[1])\n",
    "plt.legend(loc='upper right')\n",
    "plt.show()"
   ]
  },
  {
   "cell_type": "markdown",
   "metadata": {},
   "source": [
    "## Load the sambuca model inputs (SIOPS)"
   ]
  },
  {
   "cell_type": "code",
   "execution_count": 20,
   "metadata": {
    "collapsed": false
   },
   "outputs": [
    {
     "name": "stdout",
     "output_type": "stream",
     "text": [
      "dict_keys(['wav', 'q', 'chl', 'awater', 'substrate1', 'd_wls', '__version__', 'aphy_star', 'substrate2', 'tr', 'h', '__header__', 'cdom', 'UQSubs', 'modelled_spectra', '__globals__', 'n_wls'])\n",
      "\n",
      "dict_keys(['resampled_spectra', '__header__', 'filt', '__globals__', 'modelled_spectra', 'calc', '__version__', 'filtsum', 'bandsum'])\n",
      "\n",
      "(551, 36)\n"
     ]
    }
   ],
   "source": [
    "filename = '../QBdata/forwardModelTestValues.mat'\n",
    "siops_data = loadmat(filename, squeeze_me=True)\n",
    "print(siops_data.keys())\n",
    "\n",
    "filename = resource_filename(\n",
    "            sb.__name__,\n",
    "            'tests/data/test_resample.mat')\n",
    "sensor_data = loadmat(filename, squeeze_me=True)\n",
    "print()\n",
    "print(sensor_data.keys())\n",
    "\n",
    "print()\n",
    "print(sensor_data['filt'].shape)"
   ]
  },
  {
   "cell_type": "code",
   "execution_count": 21,
   "metadata": {
    "collapsed": false
   },
   "outputs": [],
   "source": [
    "# the noise data happens to be in a different file\n",
    "filename = resource_filename(sb.__name__, 'tests/data/test_error_noise.mat')\n",
    "noise_data = loadmat(filename, squeeze_me=True)"
   ]
  },
  {
   "cell_type": "markdown",
   "metadata": {},
   "source": [
    "## Objective Function\n",
    "Define the objective function by assembling sambuca components (forward model, sensor filter, error function), using a closure to bind the other inputs:"
   ]
  },
  {
   "cell_type": "code",
   "execution_count": 22,
   "metadata": {
    "collapsed": false
   },
   "outputs": [],
   "source": [
    "import math\n",
    "\n",
    "def make_objective(siops, sensor_filter, obs_spectra, p_bounds=None, noise=None):\n",
    "    awater = siops['awater']\n",
    "    wav = siops['wav']\n",
    "    aphy_star = siops['aphy_star']\n",
    "    substrate1 = siops['substrate1']\n",
    "    substrate2 = siops['substrate2']\n",
    "    num_modelled_bands = siops['d_wls']\n",
    "    num_observed_bands = siops['n_wls']\n",
    "            \n",
    "    def objective(p):\n",
    "        # To support algorithms without support for boundary values, we assign a high \n",
    "        # score to out of range parameters.\n",
    "        # p_bounds is a tuple of (min, max) pairs for each parameter in p\n",
    "        if p_bounds is not None:\n",
    "            for _p, lu in zip(p, p_bounds):\n",
    "                l, u = lu\n",
    "                if _p < l or _p > u:\n",
    "                    return 100000.0\n",
    "                    \n",
    "        # call the forward model\n",
    "        # We rely on the default values of the other model inputs, which happen to be\n",
    "        # the same values used in the Matlab code\n",
    "        spectra = sb.forward_model(\n",
    "            chl = p[0],\n",
    "            cdom = p[1],\n",
    "            nap = p[2],\n",
    "            depth = p[4],\n",
    "            substrate_fraction = p[3],\n",
    "            substrate1=substrate1,\n",
    "            substrate2=substrate2,\n",
    "            wav=wav,\n",
    "            awater=awater,\n",
    "            aphy_star=aphy_star,\n",
    "            num_bands=num_modelled_bands)\n",
    "        \n",
    "        # Apply the sensor filter\n",
    "        filtered_spectra = sb.apply_sensor_filter(spectra.rrs, sensor_filter)\n",
    "        \n",
    "        # Calculate the error and return it as the objective score\n",
    "        error = sb.error_all(obs_spectra, filtered_spectra, noise)\n",
    "        \n",
    "        #return error.alpha\n",
    "        #return error.alpha_f\n",
    "        return error.f\n",
    "        #return error.lsq\n",
    "    \n",
    "    return objective"
   ]
  },
  {
   "cell_type": "markdown",
   "metadata": {},
   "source": [
    "Define the initial values and boundary values, even though not all minimisation methods support constraints:"
   ]
  },
  {
   "cell_type": "code",
   "execution_count": 23,
   "metadata": {
    "collapsed": false
   },
   "outputs": [
    {
     "name": "stdout",
     "output_type": "stream",
     "text": [
      "Initial Parameters\n",
      "\n",
      "CHL:     0.03620\n",
      "CDOM:    0.00563\n",
      "TR:      0.23600\n",
      "H:       7.10708\n",
      "Q:       0.17000\n",
      "\n",
      "Bounds = ((0.01, 0.22), (0.00050000000000000001, 0.014999999999999999), (0.20000000000000001, 2.3999999999999999), (0.0, 1.0), (0.0, 17.399999999999999))\n"
     ]
    }
   ],
   "source": [
    "#p_min and p_max have already been defined in previous cells (read from test data)\n",
    "# random parameters often lead to a tougher optimisation challenge\n",
    "p0_rand = np.random.random(5) * (p_max - p_min) + p_min\n",
    "\n",
    "# Parameters known to lead Nelder-Mead astray:\n",
    "#p0 = np.array([0.13959, 0.00361,  0.73770,  0.07821,  0.02446])\n",
    "\n",
    "# Try using the matlab parameters as the initial guess:\n",
    "#p0 = matlab_final_parameters * 1.5\n",
    "\n",
    "p0 = p0_rand\n",
    "\n",
    "# Q seems hard to estimate, so experiment with different starting values\n",
    "p0[3] = 0.17\n",
    "\n",
    "print(\"Initial Parameters\\n\")\n",
    "print_parameters(p0)\n",
    "\n",
    "# repackage p_min and p_max into the tuple of (min,max) pairs expected by our objective function,\n",
    "# and by the minimisation methods that support bounds\n",
    "p_bounds = tuple(zip(p_min, p_max))\n",
    "print('\\nBounds = {}'.format(p_bounds))"
   ]
  },
  {
   "cell_type": "markdown",
   "metadata": {},
   "source": [
    "Load the noise data:"
   ]
  },
  {
   "cell_type": "code",
   "execution_count": 24,
   "metadata": {
    "collapsed": false
   },
   "outputs": [],
   "source": [
    "# the noise data happens to be in a different file\n",
    "filename = resource_filename(sb.__name__, 'tests/data/test_error_noise.mat')\n",
    "noise_data = loadmat(filename, squeeze_me=True)\n",
    "\n",
    "# With noise:\n",
    "obj = make_objective(siops_data, sensor_data['filt'], obs_spectra, noise_data['noiserrs'])\n",
    "# Without noise:\n",
    "#obj = make_objective(siops_data, sensor_data['filt'], obs_spectra)"
   ]
  },
  {
   "cell_type": "markdown",
   "metadata": {},
   "source": [
    "# Optimisation using SciPy\n",
    "\n",
    "More info on the different methods:\n",
    "http://docs.scipy.org/doc/scipy/reference/tutorial/optimize.html"
   ]
  },
  {
   "cell_type": "markdown",
   "metadata": {},
   "source": [
    "## Nelder-Mead (method='nelder-mead')\n",
    "This is the closest match to the Amoeba algorithm used in the IDL code, but it does not support constraints on the parameters. Constraints can be simulated by checking for out of range values in the objective function and assigning an arbitrarily high score.\n",
    "\n",
    "**Note that if the function fails to converge (max iterations exceeded), it is worth regenerating p0**"
   ]
  },
  {
   "cell_type": "code",
   "execution_count": 25,
   "metadata": {
    "collapsed": false
   },
   "outputs": [
    {
     "ename": "TypeError",
     "evalue": "forward_model() got an unexpected keyword argument 'wav'",
     "output_type": "error",
     "traceback": [
      "\u001b[1;31m---------------------------------------------------------------------------\u001b[0m",
      "\u001b[1;31mTypeError\u001b[0m                                 Traceback (most recent call last)",
      "\u001b[1;32m<ipython-input-25-b5bab2c0e8cf>\u001b[0m in \u001b[0;36m<module>\u001b[1;34m()\u001b[0m\n\u001b[0;32m      9\u001b[0m \u001b[1;31m# call the minimiser\u001b[0m\u001b[1;33m\u001b[0m\u001b[1;33m\u001b[0m\u001b[0m\n\u001b[0;32m     10\u001b[0m res_nm = minimize(obj_bounds, p0, method='nelder-mead', \n\u001b[1;32m---> 11\u001b[1;33m                   options={'xtol':1e-5, 'disp':True, 'maxiter':50000})\n\u001b[0m\u001b[0;32m     12\u001b[0m \u001b[1;33m\u001b[0m\u001b[0m\n\u001b[0;32m     13\u001b[0m \u001b[0mp_nm\u001b[0m \u001b[1;33m=\u001b[0m \u001b[0mres_nm\u001b[0m\u001b[1;33m[\u001b[0m\u001b[1;34m'x'\u001b[0m\u001b[1;33m]\u001b[0m\u001b[1;33m\u001b[0m\u001b[0m\n",
      "\u001b[1;32m/usr/lib/python3.5/site-packages/scipy/optimize/_minimize.py\u001b[0m in \u001b[0;36mminimize\u001b[1;34m(fun, x0, args, method, jac, hess, hessp, bounds, constraints, tol, callback, options)\u001b[0m\n\u001b[0;32m    430\u001b[0m                       callback=callback, **options)\n\u001b[0;32m    431\u001b[0m     \u001b[1;32melif\u001b[0m \u001b[0mmeth\u001b[0m \u001b[1;33m==\u001b[0m \u001b[1;34m'nelder-mead'\u001b[0m\u001b[1;33m:\u001b[0m\u001b[1;33m\u001b[0m\u001b[0m\n\u001b[1;32m--> 432\u001b[1;33m         \u001b[1;32mreturn\u001b[0m \u001b[0m_minimize_neldermead\u001b[0m\u001b[1;33m(\u001b[0m\u001b[0mfun\u001b[0m\u001b[1;33m,\u001b[0m \u001b[0mx0\u001b[0m\u001b[1;33m,\u001b[0m \u001b[0margs\u001b[0m\u001b[1;33m,\u001b[0m \u001b[0mcallback\u001b[0m\u001b[1;33m,\u001b[0m \u001b[1;33m**\u001b[0m\u001b[0moptions\u001b[0m\u001b[1;33m)\u001b[0m\u001b[1;33m\u001b[0m\u001b[0m\n\u001b[0m\u001b[0;32m    433\u001b[0m     \u001b[1;32melif\u001b[0m \u001b[0mmeth\u001b[0m \u001b[1;33m==\u001b[0m \u001b[1;34m'powell'\u001b[0m\u001b[1;33m:\u001b[0m\u001b[1;33m\u001b[0m\u001b[0m\n\u001b[0;32m    434\u001b[0m         \u001b[1;32mreturn\u001b[0m \u001b[0m_minimize_powell\u001b[0m\u001b[1;33m(\u001b[0m\u001b[0mfun\u001b[0m\u001b[1;33m,\u001b[0m \u001b[0mx0\u001b[0m\u001b[1;33m,\u001b[0m \u001b[0margs\u001b[0m\u001b[1;33m,\u001b[0m \u001b[0mcallback\u001b[0m\u001b[1;33m,\u001b[0m \u001b[1;33m**\u001b[0m\u001b[0moptions\u001b[0m\u001b[1;33m)\u001b[0m\u001b[1;33m\u001b[0m\u001b[0m\n",
      "\u001b[1;32m/usr/lib/python3.5/site-packages/scipy/optimize/optimize.py\u001b[0m in \u001b[0;36m_minimize_neldermead\u001b[1;34m(func, x0, args, callback, xtol, ftol, maxiter, maxfev, disp, return_all, **unknown_options)\u001b[0m\n\u001b[0;32m    433\u001b[0m     \u001b[1;32mif\u001b[0m \u001b[0mretall\u001b[0m\u001b[1;33m:\u001b[0m\u001b[1;33m\u001b[0m\u001b[0m\n\u001b[0;32m    434\u001b[0m         \u001b[0mallvecs\u001b[0m \u001b[1;33m=\u001b[0m \u001b[1;33m[\u001b[0m\u001b[0msim\u001b[0m\u001b[1;33m[\u001b[0m\u001b[1;36m0\u001b[0m\u001b[1;33m]\u001b[0m\u001b[1;33m]\u001b[0m\u001b[1;33m\u001b[0m\u001b[0m\n\u001b[1;32m--> 435\u001b[1;33m     \u001b[0mfsim\u001b[0m\u001b[1;33m[\u001b[0m\u001b[1;36m0\u001b[0m\u001b[1;33m]\u001b[0m \u001b[1;33m=\u001b[0m \u001b[0mfunc\u001b[0m\u001b[1;33m(\u001b[0m\u001b[0mx0\u001b[0m\u001b[1;33m)\u001b[0m\u001b[1;33m\u001b[0m\u001b[0m\n\u001b[0m\u001b[0;32m    436\u001b[0m     \u001b[0mnonzdelt\u001b[0m \u001b[1;33m=\u001b[0m \u001b[1;36m0.05\u001b[0m\u001b[1;33m\u001b[0m\u001b[0m\n\u001b[0;32m    437\u001b[0m     \u001b[0mzdelt\u001b[0m \u001b[1;33m=\u001b[0m \u001b[1;36m0.00025\u001b[0m\u001b[1;33m\u001b[0m\u001b[0m\n",
      "\u001b[1;32m/usr/lib/python3.5/site-packages/scipy/optimize/optimize.py\u001b[0m in \u001b[0;36mfunction_wrapper\u001b[1;34m(*wrapper_args)\u001b[0m\n\u001b[0;32m    283\u001b[0m     \u001b[1;32mdef\u001b[0m \u001b[0mfunction_wrapper\u001b[0m\u001b[1;33m(\u001b[0m\u001b[1;33m*\u001b[0m\u001b[0mwrapper_args\u001b[0m\u001b[1;33m)\u001b[0m\u001b[1;33m:\u001b[0m\u001b[1;33m\u001b[0m\u001b[0m\n\u001b[0;32m    284\u001b[0m         \u001b[0mncalls\u001b[0m\u001b[1;33m[\u001b[0m\u001b[1;36m0\u001b[0m\u001b[1;33m]\u001b[0m \u001b[1;33m+=\u001b[0m \u001b[1;36m1\u001b[0m\u001b[1;33m\u001b[0m\u001b[0m\n\u001b[1;32m--> 285\u001b[1;33m         \u001b[1;32mreturn\u001b[0m \u001b[0mfunction\u001b[0m\u001b[1;33m(\u001b[0m\u001b[1;33m*\u001b[0m\u001b[1;33m(\u001b[0m\u001b[0mwrapper_args\u001b[0m \u001b[1;33m+\u001b[0m \u001b[0margs\u001b[0m\u001b[1;33m)\u001b[0m\u001b[1;33m)\u001b[0m\u001b[1;33m\u001b[0m\u001b[0m\n\u001b[0m\u001b[0;32m    286\u001b[0m \u001b[1;33m\u001b[0m\u001b[0m\n\u001b[0;32m    287\u001b[0m     \u001b[1;32mreturn\u001b[0m \u001b[0mncalls\u001b[0m\u001b[1;33m,\u001b[0m \u001b[0mfunction_wrapper\u001b[0m\u001b[1;33m\u001b[0m\u001b[0m\n",
      "\u001b[1;32m<ipython-input-22-7936a813f564>\u001b[0m in \u001b[0;36mobjective\u001b[1;34m(p)\u001b[0m\n\u001b[0;32m     34\u001b[0m             \u001b[0mawater\u001b[0m\u001b[1;33m=\u001b[0m\u001b[0mawater\u001b[0m\u001b[1;33m,\u001b[0m\u001b[1;33m\u001b[0m\u001b[0m\n\u001b[0;32m     35\u001b[0m             \u001b[0maphy_star\u001b[0m\u001b[1;33m=\u001b[0m\u001b[0maphy_star\u001b[0m\u001b[1;33m,\u001b[0m\u001b[1;33m\u001b[0m\u001b[0m\n\u001b[1;32m---> 36\u001b[1;33m             num_bands=num_modelled_bands)\n\u001b[0m\u001b[0;32m     37\u001b[0m \u001b[1;33m\u001b[0m\u001b[0m\n\u001b[0;32m     38\u001b[0m         \u001b[1;31m# Apply the sensor filter\u001b[0m\u001b[1;33m\u001b[0m\u001b[1;33m\u001b[0m\u001b[0m\n",
      "\u001b[1;31mTypeError\u001b[0m: forward_model() got an unexpected keyword argument 'wav'"
     ]
    }
   ],
   "source": [
    "# construct an objective value with handling for parameter boundaries\n",
    "obj_bounds = make_objective(\n",
    "        siops_data, \n",
    "        sensor_data['filt'].transpose(), \n",
    "        obs_spectra, \n",
    "        p_bounds,\n",
    "        noise_data['noiserrs'])\n",
    "\n",
    "# call the minimiser\n",
    "res_nm = minimize(obj_bounds, p0, method='nelder-mead', \n",
    "                  options={'xtol':1e-5, 'disp':True, 'maxiter':50000})\n",
    "\n",
    "p_nm = res_nm['x']\n",
    "print_parameters(p_nm)\n",
    "\n",
    "nm_spectra = evaluate_forward_model(p_nm, siops_data, sensor_data['filt'].transpose())"
   ]
  },
  {
   "cell_type": "markdown",
   "metadata": {},
   "source": [
    "## Other Unconstrained Methods (objective function applies constraints)"
   ]
  },
  {
   "cell_type": "code",
   "execution_count": null,
   "metadata": {
    "collapsed": false
   },
   "outputs": [],
   "source": [
    "res_powell = minimize(obj_bounds, p0, method='L-BFGS-B', options={'disp':True, 'maxiter':20000})\n",
    "p_powell = res_powell['x']\n",
    "print_parameters(p_powell)\n",
    "powell_spectra = evaluate_forward_model(p_powell, siops_data, sensor_data['filt'].transpose())"
   ]
  },
  {
   "cell_type": "code",
   "execution_count": null,
   "metadata": {
    "collapsed": false
   },
   "outputs": [],
   "source": [
    "res_bfgs = minimize(obj_bounds, p0, method='BFGS', options={'disp':True, 'maxiter':20000})\n",
    "p_bfgs = res_bfgs['x']\n",
    "print_parameters(p_bfgs)\n",
    "bfgs_spectra = evaluate_forward_model(p_bfgs, siops_data, sensor_data['filt'].transpose())"
   ]
  },
  {
   "cell_type": "code",
   "execution_count": null,
   "metadata": {
    "collapsed": false
   },
   "outputs": [],
   "source": [
    "res_cobyla = minimize(obj_bounds, p0, method='COBYLA', \n",
    "                      options={'disp':True, 'maxiter':20000})\n",
    "p_cobyla = res_cobyla['x']\n",
    "print_parameters(p_cobyla)\n",
    "cobyla_spectra = evaluate_forward_model(p_cobyla, siops_data, sensor_data['filt'].transpose())"
   ]
  },
  {
   "cell_type": "markdown",
   "metadata": {},
   "source": [
    "## Methods that handle boundary values (objective function has no bounds)"
   ]
  },
  {
   "cell_type": "code",
   "execution_count": null,
   "metadata": {
    "collapsed": false
   },
   "outputs": [],
   "source": [
    "# construct an objective without boundary values\n",
    "obj_nobounds = make_objective(\n",
    "        siops_data, \n",
    "        sensor_data['filt'].transpose(), \n",
    "        obs_spectra, \n",
    "        None,\n",
    "        noise_data['noiserrs'])"
   ]
  },
  {
   "cell_type": "code",
   "execution_count": null,
   "metadata": {
    "collapsed": false
   },
   "outputs": [],
   "source": [
    "res_lbfgs = minimize(obj_nobounds, p0, method='L-BFGS-B', bounds=p_bounds, \n",
    "                     options={'disp':True, 'maxiter':20000})\n",
    "p_lbfgs = res_lbfgs['x']\n",
    "print_parameters(p_lbfgs)\n",
    "lbfgs_spectra = evaluate_forward_model(p_lbfgs, siops_data, sensor_data['filt'].transpose())"
   ]
  },
  {
   "cell_type": "code",
   "execution_count": null,
   "metadata": {
    "collapsed": false
   },
   "outputs": [],
   "source": [
    "res_slsqp = minimize(obj_nobounds, p0, method='SLSQP', bounds=p_bounds, \n",
    "                     options={'disp':True, 'maxiter':20000})\n",
    "p_slsqp = res_slsqp['x']\n",
    "print_parameters(p_slsqp)\n",
    "slsqp_spectra = evaluate_forward_model(p_slsqp, siops_data, sensor_data['filt'].transpose())"
   ]
  },
  {
   "cell_type": "markdown",
   "metadata": {},
   "source": [
    "## Global Search: Basin Hopping with SLSQP\n",
    "Slower, but worth a try..."
   ]
  },
  {
   "cell_type": "code",
   "execution_count": null,
   "metadata": {
    "collapsed": false
   },
   "outputs": [],
   "source": [
    "# basinhopping fails with any of the other error functions, at least with the current data set\n",
    "bh_spectra = None\n",
    "if False:\n",
    "    res_bh = basinhopping(obj_nobounds, \n",
    "                          p0_rand, \n",
    "                          #T=1.0,\n",
    "                          #stepsize=0.8,\n",
    "                          #niter=200, \n",
    "                          #disp=True,\n",
    "                          minimizer_kwargs={'method':'SLSQP', 'bounds':p_bounds, \n",
    "                                            'options':{'disp':False, 'maxiter':2000}})\n",
    "    p_bh = res_bh['x']\n",
    "    print_parameters(p_bh)\n",
    "    bh_spectra = evaluate_forward_model(p_bh, siops_data, sensor_data['filt'].transpose())\n",
    "else:\n",
    "    print('Skipped')"
   ]
  },
  {
   "cell_type": "markdown",
   "metadata": {},
   "source": [
    "## Plot the results"
   ]
  },
  {
   "cell_type": "markdown",
   "metadata": {},
   "source": [
    "Retrieve the best parameter set, run the forward model with those parameters and then plot the results alongside the observed spectra and Matlab results:"
   ]
  },
  {
   "cell_type": "code",
   "execution_count": null,
   "metadata": {
    "collapsed": false
   },
   "outputs": [],
   "source": [
    "plot_items.clear()\n",
    "plot_items.append((obs_spectra, 'Observed'))\n",
    "plot_items.append((mdl_spectra, 'Matlab'))\n",
    "plot_items.append((nm_spectra, 'Nelder-Mead'))\n",
    "plot_items.append((slsqp_spectra, 'SLSQP'))\n",
    "#plot_items.append((powell_spectra, 'Powell'))\n",
    "#plot_items.append((lbfgs_spectra, 'L-BFGS-B'))\n",
    "#plot_items.append((cobyla_spectra, 'COBYLA'))\n",
    "#plot_items.append((bfgs_spectra, 'BFGS'))\n",
    "if bh_spectra is not None:\n",
    "    plot_items.append((bh_spectra, 'Basinhopping'))\n",
    "\n",
    "plt.figure(figsize=(plot_width, plot_height))\n",
    "for pi in plot_items:\n",
    "    plt.plot(pi[0], label=pi[1])\n",
    "\n",
    "plt.legend(loc='upper right')\n",
    "plt.show()"
   ]
  },
  {
   "cell_type": "markdown",
   "metadata": {},
   "source": [
    "## Compare the parameters"
   ]
  },
  {
   "cell_type": "code",
   "execution_count": null,
   "metadata": {
    "collapsed": false
   },
   "outputs": [],
   "source": [
    "print(\"Matlab\")\n",
    "print_parameters(matlab_final_parameters)\n",
    "\n",
    "print(\"\\nSearch Start\")\n",
    "print_parameters(p0)\n",
    "\n",
    "print(\"\\nNelder-Mead\")\n",
    "print_parameters(p_nm)\n",
    "\n",
    "print(\"\\nSequential Least Squares\")\n",
    "print_parameters(p_slsqp)"
   ]
  },
  {
   "cell_type": "markdown",
   "metadata": {},
   "source": [
    "# Timing Results"
   ]
  },
  {
   "cell_type": "markdown",
   "metadata": {},
   "source": [
    "SLSQP (Sequential Least Squares) appears to do consistently well and is less sensitive to the initial parameters. It also requires less function evaluations on average. Comparing it to Nelder-Mead (which is the closest match to the Amoeba algorithm used in the IDL code):"
   ]
  },
  {
   "cell_type": "code",
   "execution_count": null,
   "metadata": {
    "collapsed": false
   },
   "outputs": [],
   "source": [
    "print('Nelder-Mead Function Evaluations {:10.5f}'.format(res_nm['nfev']))\n",
    "print('SLSQP Function Evaluations {:10.5f}'.format(res_slsqp['nfev']))"
   ]
  },
  {
   "cell_type": "code",
   "execution_count": null,
   "metadata": {
    "collapsed": false
   },
   "outputs": [],
   "source": [
    "print('SLSQP Time')\n",
    "%timeit minimize(obj_nobounds, p0, method='SLSQP', bounds=p_bounds, options={'disp':False, 'maxiter':20000})"
   ]
  },
  {
   "cell_type": "code",
   "execution_count": null,
   "metadata": {
    "collapsed": false
   },
   "outputs": [],
   "source": [
    "print('Nelder-Mead Time')\n",
    "%timeit minimize(obj_bounds, p0, method='nelder-mead', options={'xtol':1e-8, 'disp':False, 'maxiter':20000})"
   ]
  }
 ],
 "metadata": {
  "kernelspec": {
   "display_name": "Python 3",
   "language": "python",
   "name": "python3"
  },
  "language_info": {
   "codemirror_mode": {
    "name": "ipython",
    "version": 3
   },
   "file_extension": ".py",
   "mimetype": "text/x-python",
   "name": "python",
   "nbconvert_exporter": "python",
   "pygments_lexer": "ipython3",
   "version": "3.5.1"
  }
 },
 "nbformat": 4,
 "nbformat_minor": 0
}
