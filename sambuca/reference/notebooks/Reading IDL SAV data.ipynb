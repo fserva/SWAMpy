{
 "cells": [
  {
   "cell_type": "code",
   "execution_count": 1,
   "metadata": {
    "collapsed": false
   },
   "outputs": [],
   "source": [
    "%matplotlib inline\n",
    "from matplotlib import pyplot as plt\n",
    "import numpy as np\n",
    "from scipy.io import readsav\n",
    "from pkg_resources import resource_filename\n",
    "import pprint\n",
    "\n",
    "import sambuca as sb\n",
    "\n",
    "# set some controls on numpy formatting\n",
    "# 5 decimal places, suppress scientific notation\n",
    "np.set_printoptions(precision=5, suppress=True)\n",
    "\n",
    "# set the matplotlib style to emulate ggplot2 from R\n",
    "plt.style.use('ggplot')\n",
    "plot_width = 9\n",
    "plot_height = plot_width * 3/4\n",
    "\n",
    "pp = pprint.PrettyPrinter(indent=4).pprint"
   ]
  },
  {
   "cell_type": "code",
   "execution_count": 2,
   "metadata": {
    "collapsed": false,
    "scrolled": true
   },
   "outputs": [
    {
     "name": "stdout",
     "output_type": "stream",
     "text": [
      "_F1nm_H25_a_Non_UQ02_MB_RC__OS_SHon.sav  qbtest_output_spectra.hdr\r\n",
      "noise_error_data.sav                     qbtest_output_spectra.lib\r\n",
      "no_noise_error_data.sav                  sensor_filter_test_data.sav\r\n",
      "qbtest_filter_350_900nm.hdr              test_error_noise.mat\r\n",
      "qbtest_filter_350_900nm.lib              test_error_no_noise.mat\r\n",
      "qbtest_input_spectra.hdr                 test_optimise_data.mat\r\n",
      "qbtest_input_spectra.lib                 test_resample.mat\r\n"
     ]
    }
   ],
   "source": [
    "%ls ../../sambuca/tests/data"
   ]
  },
  {
   "cell_type": "code",
   "execution_count": 3,
   "metadata": {
    "collapsed": true
   },
   "outputs": [],
   "source": [
    "def plot_spectra(plot_items):\n",
    "    plt.figure(figsize=(plot_width, plot_height))\n",
    "    for pi in plot_items:\n",
    "        plt.plot(pi[0], label=pi[1])\n",
    "          \n",
    "    #plt.legend(loc='upper right')\n",
    "    plt.show()"
   ]
  },
  {
   "cell_type": "code",
   "execution_count": 4,
   "metadata": {
    "collapsed": false
   },
   "outputs": [
    {
     "data": {
      "text/plain": [
       "dict_keys(['input_spectra', 'output_spectra', 'filter'])"
      ]
     },
     "execution_count": 4,
     "metadata": {},
     "output_type": "execute_result"
    }
   ],
   "source": [
    "filename = resource_filename(\n",
    "    sb.__name__,\n",
    "    './tests/data/sensor_filter_test_data.sav')\n",
    "sf = readsav(filename)\n",
    "sf.keys()"
   ]
  },
  {
   "cell_type": "code",
   "execution_count": 5,
   "metadata": {
    "collapsed": false,
    "scrolled": true
   },
   "outputs": [
    {
     "name": "stdout",
     "output_type": "stream",
     "text": [
      "399\n"
     ]
    },
    {
     "data": {
      "text/plain": [
       "(551,)"
      ]
     },
     "execution_count": 5,
     "metadata": {},
     "output_type": "execute_result"
    }
   ],
   "source": [
    "filter = sf['filter']\n",
    "print(filter.shape[0])\n",
    "filter[4,:].shape"
   ]
  },
  {
   "cell_type": "code",
   "execution_count": 6,
   "metadata": {
    "collapsed": false
   },
   "outputs": [
    {
     "data": {
      "image/png": "[encoded data removed]",
      "text/plain": [
       "<matplotlib.figure.Figure at 0x7f540db44630>"
      ]
     },
     "metadata": {},
     "output_type": "display_data"
    }
   ],
   "source": [
    "plot_items = []\n",
    "\n",
    "for band in range(filter.shape[0]):\n",
    "    plot_items.append((filter[band,:], band))\n",
    "    \n",
    "plot_spectra(plot_items)"
   ]
  },
  {
   "cell_type": "markdown",
   "metadata": {},
   "source": [
    "#Load the main data set"
   ]
  },
  {
   "cell_type": "code",
   "execution_count": 7,
   "metadata": {
    "collapsed": false
   },
   "outputs": [
    {
     "name": "stderr",
     "output_type": "stream",
     "text": [
      "/usr/lib/python3.4/site-packages/scipy/io/idl.py:420: UserWarning: Skipping SYSTEM_VARIABLE record\n",
      "  warnings.warn(\"Skipping SYSTEM_VARIABLE record\")\n"
     ]
    }
   ],
   "source": [
    "data = readsav('../../sambuca/tests/data/_F1nm_H25_a_Non_UQ02_MB_RC__OS_SHon.sav')"
   ]
  },
  {
   "cell_type": "code",
   "execution_count": 8,
   "metadata": {
    "collapsed": false
   },
   "outputs": [
    {
     "data": {
      "text/plain": [
       "dict_keys(['sambuca', 'index1', 'r2', 'index2', 'r1', 'zz', 'z', 'substrater', 'spectra', 'q1'])"
      ]
     },
     "execution_count": 8,
     "metadata": {},
     "output_type": "execute_result"
    }
   ],
   "source": [
    "data.keys()"
   ]
  },
  {
   "cell_type": "code",
   "execution_count": 9,
   "metadata": {
    "collapsed": false
   },
   "outputs": [
    {
     "data": {
      "text/plain": [
       "('WL',\n",
       " 'SUBSTRATER',\n",
       " 'INPUT_SPECTRA',\n",
       " 'A',\n",
       " 'BB',\n",
       " 'R0',\n",
       " 'R0DP',\n",
       " 'RRS',\n",
       " 'RRSDP',\n",
       " 'KD',\n",
       " 'KUC',\n",
       " 'KUB')"
      ]
     },
     "execution_count": 9,
     "metadata": {},
     "output_type": "execute_result"
    }
   ],
   "source": [
    "data.spectra[0].dtype.names"
   ]
  },
  {
   "cell_type": "code",
   "execution_count": 10,
   "metadata": {
    "collapsed": false
   },
   "outputs": [
    {
     "data": {
      "image/png": "[encoded data removed]",
      "text/plain": [
       "<matplotlib.figure.Figure at 0x7f540d3ff240>"
      ]
     },
     "metadata": {},
     "output_type": "display_data"
    }
   ],
   "source": [
    "plt.plot(data.spectra[0].R0);"
   ]
  },
  {
   "cell_type": "code",
   "execution_count": 11,
   "metadata": {
    "collapsed": false
   },
   "outputs": [
    {
     "data": {
      "image/png": "[encoded data removed]",
      "text/plain": [
       "<matplotlib.figure.Figure at 0x7f540d3c27f0>"
      ]
     },
     "metadata": {},
     "output_type": "display_data"
    }
   ],
   "source": [
    "plt.plot(data.spectra[0].R0DP);"
   ]
  },
  {
   "cell_type": "code",
   "execution_count": 12,
   "metadata": {
    "collapsed": false
   },
   "outputs": [
    {
     "data": {
      "image/png": "[encoded data removed]",
      "text/plain": [
       "<matplotlib.figure.Figure at 0x7f540d567278>"
      ]
     },
     "metadata": {},
     "output_type": "display_data"
    }
   ],
   "source": [
    "plt.plot(data.spectra[0].substrater);"
   ]
  },
  {
   "cell_type": "code",
   "execution_count": 13,
   "metadata": {
    "collapsed": false,
    "scrolled": true
   },
   "outputs": [
    {
     "data": {
      "text/plain": [
       "('DISTANCES',\n",
       " 'OPTI_PARAMS',\n",
       " 'INPUT_PARAMS',\n",
       " 'IMAGESPECTRA',\n",
       " 'INPUT_SPECTRA',\n",
       " 'INPUTR',\n",
       " 'INPUT_SIOP',\n",
       " 'WGOSW')"
      ]
     },
     "execution_count": 13,
     "metadata": {},
     "output_type": "execute_result"
    }
   ],
   "source": [
    "data.sambuca.dtype.names"
   ]
  },
  {
   "cell_type": "code",
   "execution_count": 14,
   "metadata": {
    "collapsed": false
   },
   "outputs": [
    {
     "data": {
      "text/plain": [
       "('WL',\n",
       " 'AWATER',\n",
       " 'BBWATER',\n",
       " 'APHY_STAR',\n",
       " 'ACDOM_STAR',\n",
       " 'ATR_STAR',\n",
       " 'BBPH_STAR',\n",
       " 'BBTR_STAR',\n",
       " 'CALCULATE_SIOPS',\n",
       " 'SUBSTRATER')"
      ]
     },
     "execution_count": 14,
     "metadata": {},
     "output_type": "execute_result"
    }
   ],
   "source": [
    "data.sambuca.input_spectra[0].dtype.names"
   ]
  },
  {
   "cell_type": "code",
   "execution_count": 15,
   "metadata": {
    "collapsed": false
   },
   "outputs": [
    {
     "data": {
      "text/plain": [
       "('THETA_AIR', 'LAMBDA0CDOM', 'LAMBDA0TR', 'LAMBDA0X')"
      ]
     },
     "execution_count": 15,
     "metadata": {},
     "output_type": "execute_result"
    }
   ],
   "source": [
    "data.sambuca.input_params[0].dtype.names"
   ]
  },
  {
   "cell_type": "markdown",
   "metadata": {
    "collapsed": false
   },
   "source": [
    "# Parameters in ZZ"
   ]
  },
  {
   "cell_type": "code",
   "execution_count": 16,
   "metadata": {
    "collapsed": false
   },
   "outputs": [
    {
     "data": {
      "text/plain": [
       "numpy.ndarray"
      ]
     },
     "execution_count": 16,
     "metadata": {},
     "output_type": "execute_result"
    }
   ],
   "source": [
    "type(data.zz)"
   ]
  },
  {
   "cell_type": "code",
   "execution_count": 17,
   "metadata": {
    "collapsed": false
   },
   "outputs": [
    {
     "data": {
      "text/plain": [
       "15"
      ]
     },
     "execution_count": 17,
     "metadata": {},
     "output_type": "execute_result"
    }
   ],
   "source": [
    "len(data.zz)"
   ]
  },
  {
   "cell_type": "markdown",
   "metadata": {},
   "source": [
    "#Substrate Extraction"
   ]
  },
  {
   "cell_type": "code",
   "execution_count": 18,
   "metadata": {
    "collapsed": false
   },
   "outputs": [
    {
     "data": {
      "text/plain": [
       "('N_SPECTRA', 'SUBS_Z', 'SPECTRA', 'NAMES', 'INDEX')"
      ]
     },
     "execution_count": 18,
     "metadata": {},
     "output_type": "execute_result"
    }
   ],
   "source": [
    "data.sambuca.inputr[0].dtype.names"
   ]
  },
  {
   "cell_type": "code",
   "execution_count": 19,
   "metadata": {
    "collapsed": true
   },
   "outputs": [],
   "source": [
    "spectra = data.sambuca.inputr[0].spectra[0]\n",
    "indicies = data.sambuca.inputr[0].index[0]\n",
    "substrate1 = spectra[indicies[0]]"
   ]
  },
  {
   "cell_type": "code",
   "execution_count": 20,
   "metadata": {
    "collapsed": false
   },
   "outputs": [
    {
     "data": {
      "text/plain": [
       "(551,)"
      ]
     },
     "execution_count": 20,
     "metadata": {},
     "output_type": "execute_result"
    }
   ],
   "source": [
    "data.sambuca.inputr[0].spectra[0][:,0].shape"
   ]
  },
  {
   "cell_type": "code",
   "execution_count": 21,
   "metadata": {
    "collapsed": false,
    "scrolled": true
   },
   "outputs": [
    {
     "data": {
      "text/plain": [
       "1"
      ]
     },
     "execution_count": 21,
     "metadata": {},
     "output_type": "execute_result"
    }
   ],
   "source": [
    "len(data.sambuca.inputr[0].index)"
   ]
  },
  {
   "cell_type": "markdown",
   "metadata": {},
   "source": [
    "#Error data"
   ]
  },
  {
   "cell_type": "code",
   "execution_count": 22,
   "metadata": {
    "collapsed": true
   },
   "outputs": [],
   "source": [
    "def print_error_data(ed):\n",
    "    print(\"a: {}\".format(ed.error_a))\n",
    "    print(\"af: {}\".format(ed.error_af))\n",
    "    print(\"f: {}\".format(ed.error_f))\n",
    "    print(\"lsq: {}\".format(ed.lsq))\n",
    "    plt.plot(ed.rrs, 'b', label='rrs')\n",
    "    plt.plot(ed.realrrs, 'g', label='realrrs')\n",
    "    #plt.plot(ed.noiserrs, 'r', label='noiserrs')\n",
    "    plt.legend()\n",
    "    plt.ylim(0, 1.3)\n",
    "    plt.show()"
   ]
  },
  {
   "cell_type": "code",
   "execution_count": 23,
   "metadata": {
    "collapsed": false,
    "scrolled": true
   },
   "outputs": [
    {
     "data": {
      "text/plain": [
       "dict_keys(['realrrs', 'rrs', 'lsq', 'error_a', 'error_af', 'noiserrs', 'error_f'])"
      ]
     },
     "execution_count": 23,
     "metadata": {},
     "output_type": "execute_result"
    }
   ],
   "source": [
    "noise_data = readsav('../../sambuca/tests/data/noise_error_data.sav')\n",
    "noise_data.keys()"
   ]
  },
  {
   "cell_type": "code",
   "execution_count": 24,
   "metadata": {
    "collapsed": false
   },
   "outputs": [
    {
     "data": {
      "text/plain": [
       "array([ 0.00155,  0.00145,  0.00141,  0.00137,  0.00132,  0.00129,\n",
       "        0.00126,  0.00123,  0.00121,  0.00118,  0.00116,  0.00113,\n",
       "        0.00112,  0.00112,  0.00111,  0.00111,  0.00111,  0.00111,\n",
       "        0.00112,  0.00114,  0.00116,  0.00118,  0.00119,  0.00119,\n",
       "        0.0012 ,  0.0012 ,  0.0012 ,  0.00122,  0.00123,  0.00124,\n",
       "        0.00125,  0.00126,  0.00128,  0.0013 ,  0.00132,  0.00139,\n",
       "        0.00145,  0.0015 ,  0.00154,  0.00159,  0.00166,  0.00174,\n",
       "        0.00179,  0.00183,  0.00188,  0.00198,  0.00207,  0.00215,\n",
       "        0.00223,  0.00231,  0.00236,  0.00242,  0.00242,  0.00241,\n",
       "        0.0024 ,  0.0024 ,  0.00239,  0.00241,  0.00243,  0.00245,\n",
       "        0.00248,  0.00251,  0.00252,  0.00252,  0.00253,  0.00254,\n",
       "        0.00255,  0.00258,  0.00262,  0.00265,  0.00269,  0.00273,\n",
       "        0.00277,  0.00281,  0.00285,  0.00294,  0.00302,  0.00307,\n",
       "        0.00313,  0.00317,  0.00323,  0.00328,  0.00332,  0.00336,\n",
       "        0.0034 ,  0.0035 ,  0.0036 ,  0.00365,  0.0037 ,  0.00375,\n",
       "        0.0039 ,  0.00405,  0.00414,  0.00423,  0.00433,  0.00455,\n",
       "        0.00477,  0.00488,  0.00499,  0.0051 ,  0.0054 ,  0.0057 ,\n",
       "        0.00593,  0.00617,  0.0064 ,  0.0067 ,  0.007  ,  0.00738,\n",
       "        0.00775,  0.00812,  0.00871,  0.0093 ,  0.0095 ,  0.0097 ,\n",
       "        0.0099 ,  0.00994,  0.00998,  0.01006,  0.01014,  0.01022,\n",
       "        0.01031,  0.0104 ,  0.01041,  0.01042,  0.01043,  0.01056,\n",
       "        0.0107 ,  0.01075,  0.0108 ,  0.01085,  0.01101,  0.01118,\n",
       "        0.01122,  0.01126,  0.0113 ,  0.01147,  0.01165,  0.01172,\n",
       "        0.01178,  0.01185,  0.01204,  0.01223,  0.01241,  0.01259,\n",
       "        0.01278,  0.0131 ,  0.01343,  0.01366,  0.01389,  0.01412,\n",
       "        0.01448,  0.01483,  0.01485,  0.01488,  0.0149 ,  0.01503,\n",
       "        0.01515,  0.01526,  0.01537,  0.01548,  0.01574,  0.016  ,\n",
       "        0.01602,  0.01603,  0.01605,  0.01643,  0.0168 ,  0.01699,\n",
       "        0.01718,  0.01737,  0.01785,  0.01832,  0.01865,  0.01898,\n",
       "        0.0193 ,  0.0201 ,  0.0209 ,  0.0214 ,  0.0219 ,  0.0224 ,\n",
       "        0.02356,  0.02472,  0.02565,  0.02657,  0.0275 ,  0.029  ,\n",
       "        0.0305 ,  0.03159,  0.03268,  0.03378,  0.03584,  0.0379 ,\n",
       "        0.0392 ,  0.0405 ,  0.0418 ,  0.04496,  0.04812,  0.05062,\n",
       "        0.05311,  0.0556 ,  0.05867,  0.06175,  0.06264,  0.06353,\n",
       "        0.06442,  0.06508,  0.06572,  0.06585,  0.06598,  0.0661 ,\n",
       "        0.06636,  0.06662,  0.06673,  0.06684,  0.06695,  0.06731,\n",
       "        0.06768,  0.06808,  0.06848,  0.06887,  0.06956,  0.07025,\n",
       "        0.07045,  0.07065,  0.07085,  0.07173,  0.0726 ,  0.0727 ,\n",
       "        0.0728 ,  0.0729 ,  0.07389,  0.07487,  0.07502,  0.07516,\n",
       "        0.0753 ,  0.07611,  0.07693,  0.07718,  0.07744,  0.0777 ,\n",
       "        0.0791 ,  0.0805 ,  0.08075,  0.081  ,  0.08125,  0.0825 ,\n",
       "        0.08375,  0.08417,  0.08458,  0.085  ,  0.08725,  0.0895 ,\n",
       "        0.09058,  0.09167,  0.09275,  0.0955 ,  0.09825,  0.09967,\n",
       "        0.10108,  0.1025 ,  0.10425,  0.106  ,  0.10642,  0.10683,\n",
       "        0.10725,  0.10813,  0.109  ,  0.10925,  0.1095 ,  0.10975,\n",
       "        0.11088,  0.112  ,  0.112  ,  0.112  ,  0.112  ,  0.11362,\n",
       "        0.11525,  0.11558,  0.11592,  0.11625,  0.11788,  0.1195 ,\n",
       "        0.12017,  0.12083,  0.1215 ,  0.1235 ,  0.1255 ,  0.12667,\n",
       "        0.12783,  0.129  ,  0.13175,  0.1345 ,  0.13625,  0.138  ,\n",
       "        0.13975,  0.14388,  0.148  ,  0.15067,  0.15333,  0.156  ,\n",
       "        0.16087,  0.16575,  0.16917,  0.17258,  0.176  ,  0.1825 ,\n",
       "        0.189  ,  0.19492,  0.20083,  0.20675,  0.21763,  0.2285 ,\n",
       "        0.23625,  0.244  ,  0.25175,  0.26575,  0.27975,  0.28908,\n",
       "        0.29842,  0.30775,  0.32337,  0.339  ,  0.35008,  0.36117,\n",
       "        0.37225,  0.39588,  0.4195 ,  0.44017,  0.4611 ,  0.4906 ,\n",
       "        0.52003,  0.54935,  0.5786 ,  0.61205,  0.6326 ,  0.65307,\n",
       "        0.6607 ,  0.66833,  0.68442,  0.692  ,  0.69955,  0.70283,\n",
       "        0.70613,  0.7094 ,  0.70845,  0.7117 ,  0.71075,  0.714  ,\n",
       "        0.71305,  0.7121 ,  0.71532,  0.71438,  0.7176 ,  0.71665,\n",
       "        0.71985,  0.7189 ,  0.71796,  0.71702,  0.71608,  0.71513,\n",
       "        0.71833,  0.71737,  0.71643,  0.71549,  0.71455,  0.71363,\n",
       "        0.7086 ,  0.70767,  0.70675,  0.70585,  0.7029 ,  0.69995,\n",
       "        0.69498,  0.69407,  0.68913,  0.68822,  0.68533,  0.68243,\n",
       "        0.67752,  0.67263,  0.66373,  0.66086,  0.658  ,  0.65317,\n",
       "        0.64833,  0.6395 ,  0.63073,  0.62792,  0.62512,  0.6164 ,\n",
       "        0.61163,  0.60293,  0.59821,  0.5935 ,  0.5888 ,  0.58412,\n",
       "        0.57945,  0.57479,  0.57012], dtype=float32)"
      ]
     },
     "execution_count": 24,
     "metadata": {},
     "output_type": "execute_result"
    }
   ],
   "source": [
    "noise_data.realrrs"
   ]
  },
  {
   "cell_type": "code",
   "execution_count": 25,
   "metadata": {
    "collapsed": false
   },
   "outputs": [
    {
     "name": "stdout",
     "output_type": "stream",
     "text": [
      "a: 0.9755970024830055\n",
      "af: 0.08708689457115347\n",
      "f: 0.0892652338511777\n",
      "lsq: 5.897183601134045\n"
     ]
    },
    {
     "data": {
      "image/png": "[encoded data removed]",
      "text/plain": [
       "<matplotlib.figure.Figure at 0x7f540d534f60>"
      ]
     },
     "metadata": {},
     "output_type": "display_data"
    }
   ],
   "source": [
    "print_error_data(noise_data)"
   ]
  },
  {
   "cell_type": "code",
   "execution_count": 26,
   "metadata": {
    "collapsed": false
   },
   "outputs": [
    {
     "data": {
      "text/plain": [
       "dict_keys(['realrrs', 'rrs', 'lsq', 'error_a', 'error_af', 'noiserrs', 'error_f'])"
      ]
     },
     "execution_count": 26,
     "metadata": {},
     "output_type": "execute_result"
    }
   ],
   "source": [
    "no_noise_data = readsav('../../sambuca/tests/data/no_noise_error_data.sav')\n",
    "no_noise_data.keys()"
   ]
  },
  {
   "cell_type": "code",
   "execution_count": 27,
   "metadata": {
    "collapsed": false
   },
   "outputs": [
    {
     "name": "stdout",
     "output_type": "stream",
     "text": [
      "a: 0.9755970024855829\n",
      "af: 0.08708689457246128\n",
      "f: 0.0892652338522824\n",
      "lsq: 5.897183601134045\n"
     ]
    },
    {
     "data": {
      "image/png": "[encoded data removed]",
      "text/plain": [
       "<matplotlib.figure.Figure at 0x7f540d277710>"
      ]
     },
     "metadata": {},
     "output_type": "display_data"
    }
   ],
   "source": [
    "print_error_data(no_noise_data)"
   ]
  },
  {
   "cell_type": "code",
   "execution_count": 28,
   "metadata": {
    "collapsed": false
   },
   "outputs": [
    {
     "name": "stdout",
     "output_type": "stream",
     "text": [
      "5.89718360113 5.89718335694 5.89718\n"
     ]
    }
   ],
   "source": [
    "realrrs = noise_data.realrrs\n",
    "rrs = noise_data.rrs\n",
    "expected_lsq = noise_data.lsq\n",
    "lsq = np.power(np.sum(np.power(realrrs - rrs, 2)), 0.5)\n",
    "lsq_np = np.linalg.norm(realrrs - rrs)\n",
    "print(expected_lsq, lsq, lsq_np)"
   ]
  },
  {
   "cell_type": "code",
   "execution_count": 29,
   "metadata": {
    "collapsed": false
   },
   "outputs": [
    {
     "name": "stdout",
     "output_type": "stream",
     "text": [
      "0.0892652352876 0.0892652 0.0892652\n"
     ]
    }
   ],
   "source": [
    "f_val = np.power( np.sum( np.power( realrrs - rrs, 2)), 0.5) / np.sum(realrrs)\n",
    "f_val_np = np.linalg.norm(realrrs - rrs) / np.sum(realrrs)\n",
    "f_val_3 = lsq_np / realrrs.sum()\n",
    "print(f_val, f_val_np, f_val_3)"
   ]
  },
  {
   "cell_type": "code",
   "execution_count": 30,
   "metadata": {
    "collapsed": false
   },
   "outputs": [
    {
     "name": "stdout",
     "output_type": "stream",
     "text": [
      "5.89882584866 5.89883\n",
      "0.00293011898102 0.00293012\n"
     ]
    }
   ],
   "source": [
    "observed_rrs = realrrs\n",
    "modelled_rrs = rrs\n",
    "botline1 = np.power(np.sum(np.power(observed_rrs, 2)), 0.5)\n",
    "botline2 = np.power(np.sum(np.power(modelled_rrs, 2)), 0.5)\n",
    "botline1_np = np.linalg.norm(observed_rrs)\n",
    "botline2_np = np.linalg.norm(modelled_rrs)\n",
    "\n",
    "print(botline1, botline1_np)\n",
    "print(botline2, botline2_np)"
   ]
  },
  {
   "cell_type": "code",
   "execution_count": null,
   "metadata": {
    "collapsed": true
   },
   "outputs": [],
   "source": []
  }
 ],
 "metadata": {
  "kernelspec": {
   "display_name": "Python 3",
   "language": "python",
   "name": "python3"
  },
  "language_info": {
   "codemirror_mode": {
    "name": "ipython",
    "version": 3
   },
   "file_extension": ".py",
   "mimetype": "text/x-python",
   "name": "python",
   "nbconvert_exporter": "python",
   "pygments_lexer": "ipython3",
   "version": "3.4.3"
  }
 },
 "nbformat": 4,
 "nbformat_minor": 0
}
